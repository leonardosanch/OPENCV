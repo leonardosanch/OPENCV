{
  "nbformat": 4,
  "nbformat_minor": 0,
  "metadata": {
    "colab": {
      "provenance": [],
      "authorship_tag": "ABX9TyMxRQwJh6dPDNvclohyxWEm",
      "include_colab_link": true
    },
    "kernelspec": {
      "name": "python3",
      "display_name": "Python 3"
    },
    "language_info": {
      "name": "python"
    }
  },
  "cells": [
    {
      "cell_type": "markdown",
      "metadata": {
        "id": "view-in-github",
        "colab_type": "text"
      },
      "source": [
        "<a href=\"https://colab.research.google.com/github/leonardosanch/OPENCV/blob/main/Keras2.ipynb\" target=\"_parent\"><img src=\"https://colab.research.google.com/assets/colab-badge.svg\" alt=\"Open In Colab\"/></a>"
      ]
    },
    {
      "cell_type": "code",
      "execution_count": null,
      "metadata": {
        "id": "o7E5DwEe10Kf"
      },
      "outputs": [],
      "source": []
    },
    {
      "cell_type": "code",
      "source": [
        "import numpy as np"
      ],
      "metadata": {
        "id": "lxFzIpZq14oE"
      },
      "execution_count": 2,
      "outputs": []
    },
    {
      "cell_type": "code",
      "source": [
        "from numpy import genfromtxt\n",
        "data = genfromtxt('/content/bank_note_data.txt' , delimiter=',')"
      ],
      "metadata": {
        "id": "0UEbBjvh2DJW"
      },
      "execution_count": 3,
      "outputs": []
    },
    {
      "cell_type": "code",
      "source": [
        "data"
      ],
      "metadata": {
        "colab": {
          "base_uri": "https://localhost:8080/"
        },
        "id": "yYKpqk5Z2IyQ",
        "outputId": "19754d9e-d6ba-4c88-b8fe-b6645b830295"
      },
      "execution_count": 4,
      "outputs": [
        {
          "output_type": "execute_result",
          "data": {
            "text/plain": [
              "array([[  3.6216 ,   8.6661 ,  -2.8073 ,  -0.44699,   0.     ],\n",
              "       [  4.5459 ,   8.1674 ,  -2.4586 ,  -1.4621 ,   0.     ],\n",
              "       [  3.866  ,  -2.6383 ,   1.9242 ,   0.10645,   0.     ],\n",
              "       ...,\n",
              "       [ -3.7503 , -13.4586 ,  17.5932 ,  -2.7771 ,   1.     ],\n",
              "       [ -3.5637 ,  -8.3827 ,  12.393  ,  -1.2823 ,   1.     ],\n",
              "       [ -2.5419 ,  -0.65804,   2.6842 ,   1.1952 ,   1.     ]])"
            ]
          },
          "metadata": {},
          "execution_count": 4
        }
      ]
    },
    {
      "cell_type": "code",
      "source": [
        "etiquetas=data[:,4]"
      ],
      "metadata": {
        "id": "-1XkuQzd2KHu"
      },
      "execution_count": 6,
      "outputs": []
    },
    {
      "cell_type": "code",
      "source": [
        "caracteristicas = data[:,0:4]"
      ],
      "metadata": {
        "id": "469rZmT62MFs"
      },
      "execution_count": 7,
      "outputs": []
    },
    {
      "cell_type": "code",
      "source": [
        "X = caracteristicas\n",
        "y = etiquetas"
      ],
      "metadata": {
        "id": "_Aie5Qcv2OGr"
      },
      "execution_count": 8,
      "outputs": []
    },
    {
      "cell_type": "code",
      "source": [
        "from sklearn.model_selection import train_test_split"
      ],
      "metadata": {
        "id": "oja4ywHN2QsH"
      },
      "execution_count": 9,
      "outputs": []
    },
    {
      "cell_type": "code",
      "source": [
        "X_train, X_test, y_train, y_test = train_test_split(X,y, test_size=0.33, random_state=42)"
      ],
      "metadata": {
        "id": "fwldCT9n2SkX"
      },
      "execution_count": 10,
      "outputs": []
    },
    {
      "cell_type": "markdown",
      "source": [
        "# Normalizar"
      ],
      "metadata": {
        "id": "l743Kg4e2W-l"
      }
    },
    {
      "cell_type": "code",
      "source": [
        "from sklearn.preprocessing import MinMaxScaler"
      ],
      "metadata": {
        "id": "i4ikD-UG2Z2u"
      },
      "execution_count": 11,
      "outputs": []
    },
    {
      "cell_type": "code",
      "source": [
        "scaler_object = MinMaxScaler()"
      ],
      "metadata": {
        "id": "Kv5CQ9X32cH9"
      },
      "execution_count": 12,
      "outputs": []
    },
    {
      "cell_type": "code",
      "source": [
        "scaler_object.fit(X_train)"
      ],
      "metadata": {
        "colab": {
          "base_uri": "https://localhost:8080/",
          "height": 75
        },
        "id": "P_lNJ3J_2dlx",
        "outputId": "f4d1cd36-2eb6-410d-a92b-673c530768f7"
      },
      "execution_count": 13,
      "outputs": [
        {
          "output_type": "execute_result",
          "data": {
            "text/plain": [
              "MinMaxScaler()"
            ],
            "text/html": [
              "<style>#sk-container-id-1 {color: black;background-color: white;}#sk-container-id-1 pre{padding: 0;}#sk-container-id-1 div.sk-toggleable {background-color: white;}#sk-container-id-1 label.sk-toggleable__label {cursor: pointer;display: block;width: 100%;margin-bottom: 0;padding: 0.3em;box-sizing: border-box;text-align: center;}#sk-container-id-1 label.sk-toggleable__label-arrow:before {content: \"▸\";float: left;margin-right: 0.25em;color: #696969;}#sk-container-id-1 label.sk-toggleable__label-arrow:hover:before {color: black;}#sk-container-id-1 div.sk-estimator:hover label.sk-toggleable__label-arrow:before {color: black;}#sk-container-id-1 div.sk-toggleable__content {max-height: 0;max-width: 0;overflow: hidden;text-align: left;background-color: #f0f8ff;}#sk-container-id-1 div.sk-toggleable__content pre {margin: 0.2em;color: black;border-radius: 0.25em;background-color: #f0f8ff;}#sk-container-id-1 input.sk-toggleable__control:checked~div.sk-toggleable__content {max-height: 200px;max-width: 100%;overflow: auto;}#sk-container-id-1 input.sk-toggleable__control:checked~label.sk-toggleable__label-arrow:before {content: \"▾\";}#sk-container-id-1 div.sk-estimator input.sk-toggleable__control:checked~label.sk-toggleable__label {background-color: #d4ebff;}#sk-container-id-1 div.sk-label input.sk-toggleable__control:checked~label.sk-toggleable__label {background-color: #d4ebff;}#sk-container-id-1 input.sk-hidden--visually {border: 0;clip: rect(1px 1px 1px 1px);clip: rect(1px, 1px, 1px, 1px);height: 1px;margin: -1px;overflow: hidden;padding: 0;position: absolute;width: 1px;}#sk-container-id-1 div.sk-estimator {font-family: monospace;background-color: #f0f8ff;border: 1px dotted black;border-radius: 0.25em;box-sizing: border-box;margin-bottom: 0.5em;}#sk-container-id-1 div.sk-estimator:hover {background-color: #d4ebff;}#sk-container-id-1 div.sk-parallel-item::after {content: \"\";width: 100%;border-bottom: 1px solid gray;flex-grow: 1;}#sk-container-id-1 div.sk-label:hover label.sk-toggleable__label {background-color: #d4ebff;}#sk-container-id-1 div.sk-serial::before {content: \"\";position: absolute;border-left: 1px solid gray;box-sizing: border-box;top: 0;bottom: 0;left: 50%;z-index: 0;}#sk-container-id-1 div.sk-serial {display: flex;flex-direction: column;align-items: center;background-color: white;padding-right: 0.2em;padding-left: 0.2em;position: relative;}#sk-container-id-1 div.sk-item {position: relative;z-index: 1;}#sk-container-id-1 div.sk-parallel {display: flex;align-items: stretch;justify-content: center;background-color: white;position: relative;}#sk-container-id-1 div.sk-item::before, #sk-container-id-1 div.sk-parallel-item::before {content: \"\";position: absolute;border-left: 1px solid gray;box-sizing: border-box;top: 0;bottom: 0;left: 50%;z-index: -1;}#sk-container-id-1 div.sk-parallel-item {display: flex;flex-direction: column;z-index: 1;position: relative;background-color: white;}#sk-container-id-1 div.sk-parallel-item:first-child::after {align-self: flex-end;width: 50%;}#sk-container-id-1 div.sk-parallel-item:last-child::after {align-self: flex-start;width: 50%;}#sk-container-id-1 div.sk-parallel-item:only-child::after {width: 0;}#sk-container-id-1 div.sk-dashed-wrapped {border: 1px dashed gray;margin: 0 0.4em 0.5em 0.4em;box-sizing: border-box;padding-bottom: 0.4em;background-color: white;}#sk-container-id-1 div.sk-label label {font-family: monospace;font-weight: bold;display: inline-block;line-height: 1.2em;}#sk-container-id-1 div.sk-label-container {text-align: center;}#sk-container-id-1 div.sk-container {/* jupyter's `normalize.less` sets `[hidden] { display: none; }` but bootstrap.min.css set `[hidden] { display: none !important; }` so we also need the `!important` here to be able to override the default hidden behavior on the sphinx rendered scikit-learn.org. See: https://github.com/scikit-learn/scikit-learn/issues/21755 */display: inline-block !important;position: relative;}#sk-container-id-1 div.sk-text-repr-fallback {display: none;}</style><div id=\"sk-container-id-1\" class=\"sk-top-container\"><div class=\"sk-text-repr-fallback\"><pre>MinMaxScaler()</pre><b>In a Jupyter environment, please rerun this cell to show the HTML representation or trust the notebook. <br />On GitHub, the HTML representation is unable to render, please try loading this page with nbviewer.org.</b></div><div class=\"sk-container\" hidden><div class=\"sk-item\"><div class=\"sk-estimator sk-toggleable\"><input class=\"sk-toggleable__control sk-hidden--visually\" id=\"sk-estimator-id-1\" type=\"checkbox\" checked><label for=\"sk-estimator-id-1\" class=\"sk-toggleable__label sk-toggleable__label-arrow\">MinMaxScaler</label><div class=\"sk-toggleable__content\"><pre>MinMaxScaler()</pre></div></div></div></div></div>"
            ]
          },
          "metadata": {},
          "execution_count": 13
        }
      ]
    },
    {
      "cell_type": "code",
      "source": [
        "scaled_X_train = scaler_object.transform(X_train)"
      ],
      "metadata": {
        "id": "Y2yumClJ2f6e"
      },
      "execution_count": 14,
      "outputs": []
    },
    {
      "cell_type": "code",
      "source": [
        "scaled_X_test = scaler_object.transform(X_test)"
      ],
      "metadata": {
        "id": "o9yaqhE92iLo"
      },
      "execution_count": 15,
      "outputs": []
    },
    {
      "cell_type": "code",
      "source": [
        "# empezar a construir el modelo"
      ],
      "metadata": {
        "id": "qvWicPVm2lbM"
      },
      "execution_count": null,
      "outputs": []
    },
    {
      "cell_type": "code",
      "source": [
        "from keras.models import Sequential\n",
        "from keras.layers import Input, Dense\n",
        "\n"
      ],
      "metadata": {
        "id": "kTtp0O6r2nI7"
      },
      "execution_count": 16,
      "outputs": []
    },
    {
      "cell_type": "code",
      "source": [
        "model = Sequential()\n",
        "model.add(Dense(4, input_dim=4, activation='relu'))\n",
        "model.add(Dense(8, activation='relu'))\n",
        "model.add(Dense(1, activation='sigmoid'))\n"
      ],
      "metadata": {
        "id": "goMq1_Ax2pjF"
      },
      "execution_count": 17,
      "outputs": []
    },
    {
      "cell_type": "code",
      "source": [
        "model.compile(loss='binary_crossentropy', optimizer='adam', metrics=['accuracy'])"
      ],
      "metadata": {
        "id": "aIS-UdC42xQP"
      },
      "execution_count": 18,
      "outputs": []
    },
    {
      "cell_type": "code",
      "source": [
        "#Entrenar el modelo"
      ],
      "metadata": {
        "id": "oUrYltrr2ypJ"
      },
      "execution_count": null,
      "outputs": []
    },
    {
      "cell_type": "code",
      "source": [
        "model.fit(scaled_X_train, y_train, epochs=100, verbose=2)"
      ],
      "metadata": {
        "colab": {
          "base_uri": "https://localhost:8080/"
        },
        "id": "abhYRvET20L3",
        "outputId": "e0bce6ac-69c4-4f81-a8db-12cc42391103"
      },
      "execution_count": 21,
      "outputs": [
        {
          "output_type": "stream",
          "name": "stdout",
          "text": [
            "Epoch 1/100\n",
            "29/29 - 0s - loss: 0.1335 - accuracy: 0.9565 - 49ms/epoch - 2ms/step\n",
            "Epoch 2/100\n",
            "29/29 - 0s - loss: 0.1311 - accuracy: 0.9587 - 48ms/epoch - 2ms/step\n",
            "Epoch 3/100\n",
            "29/29 - 0s - loss: 0.1281 - accuracy: 0.9554 - 52ms/epoch - 2ms/step\n",
            "Epoch 4/100\n",
            "29/29 - 0s - loss: 0.1254 - accuracy: 0.9587 - 49ms/epoch - 2ms/step\n",
            "Epoch 5/100\n",
            "29/29 - 0s - loss: 0.1230 - accuracy: 0.9587 - 50ms/epoch - 2ms/step\n",
            "Epoch 6/100\n",
            "29/29 - 0s - loss: 0.1204 - accuracy: 0.9608 - 49ms/epoch - 2ms/step\n",
            "Epoch 7/100\n",
            "29/29 - 0s - loss: 0.1180 - accuracy: 0.9597 - 47ms/epoch - 2ms/step\n",
            "Epoch 8/100\n",
            "29/29 - 0s - loss: 0.1164 - accuracy: 0.9608 - 57ms/epoch - 2ms/step\n",
            "Epoch 9/100\n",
            "29/29 - 0s - loss: 0.1134 - accuracy: 0.9641 - 58ms/epoch - 2ms/step\n",
            "Epoch 10/100\n",
            "29/29 - 0s - loss: 0.1115 - accuracy: 0.9630 - 49ms/epoch - 2ms/step\n",
            "Epoch 11/100\n",
            "29/29 - 0s - loss: 0.1097 - accuracy: 0.9652 - 49ms/epoch - 2ms/step\n",
            "Epoch 12/100\n",
            "29/29 - 0s - loss: 0.1077 - accuracy: 0.9641 - 49ms/epoch - 2ms/step\n",
            "Epoch 13/100\n",
            "29/29 - 0s - loss: 0.1069 - accuracy: 0.9663 - 56ms/epoch - 2ms/step\n",
            "Epoch 14/100\n",
            "29/29 - 0s - loss: 0.1038 - accuracy: 0.9652 - 53ms/epoch - 2ms/step\n",
            "Epoch 15/100\n",
            "29/29 - 0s - loss: 0.1020 - accuracy: 0.9641 - 50ms/epoch - 2ms/step\n",
            "Epoch 16/100\n",
            "29/29 - 0s - loss: 0.1008 - accuracy: 0.9652 - 55ms/epoch - 2ms/step\n",
            "Epoch 17/100\n",
            "29/29 - 0s - loss: 0.0988 - accuracy: 0.9652 - 50ms/epoch - 2ms/step\n",
            "Epoch 18/100\n",
            "29/29 - 0s - loss: 0.0971 - accuracy: 0.9663 - 46ms/epoch - 2ms/step\n",
            "Epoch 19/100\n",
            "29/29 - 0s - loss: 0.0956 - accuracy: 0.9630 - 61ms/epoch - 2ms/step\n",
            "Epoch 20/100\n",
            "29/29 - 0s - loss: 0.0944 - accuracy: 0.9674 - 51ms/epoch - 2ms/step\n",
            "Epoch 21/100\n",
            "29/29 - 0s - loss: 0.0925 - accuracy: 0.9652 - 47ms/epoch - 2ms/step\n",
            "Epoch 22/100\n",
            "29/29 - 0s - loss: 0.0909 - accuracy: 0.9663 - 52ms/epoch - 2ms/step\n",
            "Epoch 23/100\n",
            "29/29 - 0s - loss: 0.0893 - accuracy: 0.9652 - 50ms/epoch - 2ms/step\n",
            "Epoch 24/100\n",
            "29/29 - 0s - loss: 0.0884 - accuracy: 0.9674 - 50ms/epoch - 2ms/step\n",
            "Epoch 25/100\n",
            "29/29 - 0s - loss: 0.0869 - accuracy: 0.9663 - 57ms/epoch - 2ms/step\n",
            "Epoch 26/100\n",
            "29/29 - 0s - loss: 0.0859 - accuracy: 0.9706 - 51ms/epoch - 2ms/step\n",
            "Epoch 27/100\n",
            "29/29 - 0s - loss: 0.0844 - accuracy: 0.9663 - 58ms/epoch - 2ms/step\n",
            "Epoch 28/100\n",
            "29/29 - 0s - loss: 0.0829 - accuracy: 0.9695 - 48ms/epoch - 2ms/step\n",
            "Epoch 29/100\n",
            "29/29 - 0s - loss: 0.0819 - accuracy: 0.9663 - 49ms/epoch - 2ms/step\n",
            "Epoch 30/100\n",
            "29/29 - 0s - loss: 0.0818 - accuracy: 0.9684 - 47ms/epoch - 2ms/step\n",
            "Epoch 31/100\n",
            "29/29 - 0s - loss: 0.0794 - accuracy: 0.9695 - 48ms/epoch - 2ms/step\n",
            "Epoch 32/100\n",
            "29/29 - 0s - loss: 0.0785 - accuracy: 0.9728 - 48ms/epoch - 2ms/step\n",
            "Epoch 33/100\n",
            "29/29 - 0s - loss: 0.0776 - accuracy: 0.9695 - 48ms/epoch - 2ms/step\n",
            "Epoch 34/100\n",
            "29/29 - 0s - loss: 0.0761 - accuracy: 0.9728 - 51ms/epoch - 2ms/step\n",
            "Epoch 35/100\n",
            "29/29 - 0s - loss: 0.0756 - accuracy: 0.9706 - 59ms/epoch - 2ms/step\n",
            "Epoch 36/100\n",
            "29/29 - 0s - loss: 0.0749 - accuracy: 0.9717 - 52ms/epoch - 2ms/step\n",
            "Epoch 37/100\n",
            "29/29 - 0s - loss: 0.0737 - accuracy: 0.9684 - 50ms/epoch - 2ms/step\n",
            "Epoch 38/100\n",
            "29/29 - 0s - loss: 0.0724 - accuracy: 0.9695 - 47ms/epoch - 2ms/step\n",
            "Epoch 39/100\n",
            "29/29 - 0s - loss: 0.0719 - accuracy: 0.9717 - 53ms/epoch - 2ms/step\n",
            "Epoch 40/100\n",
            "29/29 - 0s - loss: 0.0706 - accuracy: 0.9717 - 48ms/epoch - 2ms/step\n",
            "Epoch 41/100\n",
            "29/29 - 0s - loss: 0.0705 - accuracy: 0.9771 - 48ms/epoch - 2ms/step\n",
            "Epoch 42/100\n",
            "29/29 - 0s - loss: 0.0700 - accuracy: 0.9728 - 79ms/epoch - 3ms/step\n",
            "Epoch 43/100\n",
            "29/29 - 0s - loss: 0.0687 - accuracy: 0.9728 - 67ms/epoch - 2ms/step\n",
            "Epoch 44/100\n",
            "29/29 - 0s - loss: 0.0674 - accuracy: 0.9706 - 75ms/epoch - 3ms/step\n",
            "Epoch 45/100\n",
            "29/29 - 0s - loss: 0.0667 - accuracy: 0.9706 - 66ms/epoch - 2ms/step\n",
            "Epoch 46/100\n",
            "29/29 - 0s - loss: 0.0660 - accuracy: 0.9750 - 71ms/epoch - 2ms/step\n",
            "Epoch 47/100\n",
            "29/29 - 0s - loss: 0.0653 - accuracy: 0.9750 - 64ms/epoch - 2ms/step\n",
            "Epoch 48/100\n",
            "29/29 - 0s - loss: 0.0650 - accuracy: 0.9739 - 67ms/epoch - 2ms/step\n",
            "Epoch 49/100\n",
            "29/29 - 0s - loss: 0.0637 - accuracy: 0.9706 - 68ms/epoch - 2ms/step\n",
            "Epoch 50/100\n",
            "29/29 - 0s - loss: 0.0631 - accuracy: 0.9739 - 71ms/epoch - 2ms/step\n",
            "Epoch 51/100\n",
            "29/29 - 0s - loss: 0.0625 - accuracy: 0.9728 - 81ms/epoch - 3ms/step\n",
            "Epoch 52/100\n",
            "29/29 - 0s - loss: 0.0631 - accuracy: 0.9761 - 67ms/epoch - 2ms/step\n",
            "Epoch 53/100\n",
            "29/29 - 0s - loss: 0.0626 - accuracy: 0.9761 - 70ms/epoch - 2ms/step\n",
            "Epoch 54/100\n",
            "29/29 - 0s - loss: 0.0609 - accuracy: 0.9771 - 69ms/epoch - 2ms/step\n",
            "Epoch 55/100\n",
            "29/29 - 0s - loss: 0.0603 - accuracy: 0.9771 - 72ms/epoch - 2ms/step\n",
            "Epoch 56/100\n",
            "29/29 - 0s - loss: 0.0600 - accuracy: 0.9761 - 72ms/epoch - 2ms/step\n",
            "Epoch 57/100\n",
            "29/29 - 0s - loss: 0.0585 - accuracy: 0.9771 - 73ms/epoch - 3ms/step\n",
            "Epoch 58/100\n",
            "29/29 - 0s - loss: 0.0583 - accuracy: 0.9761 - 67ms/epoch - 2ms/step\n",
            "Epoch 59/100\n",
            "29/29 - 0s - loss: 0.0578 - accuracy: 0.9771 - 67ms/epoch - 2ms/step\n",
            "Epoch 60/100\n",
            "29/29 - 0s - loss: 0.0573 - accuracy: 0.9771 - 66ms/epoch - 2ms/step\n",
            "Epoch 61/100\n",
            "29/29 - 0s - loss: 0.0566 - accuracy: 0.9761 - 71ms/epoch - 2ms/step\n",
            "Epoch 62/100\n",
            "29/29 - 0s - loss: 0.0560 - accuracy: 0.9782 - 68ms/epoch - 2ms/step\n",
            "Epoch 63/100\n",
            "29/29 - 0s - loss: 0.0558 - accuracy: 0.9771 - 67ms/epoch - 2ms/step\n",
            "Epoch 64/100\n",
            "29/29 - 0s - loss: 0.0553 - accuracy: 0.9782 - 68ms/epoch - 2ms/step\n",
            "Epoch 65/100\n",
            "29/29 - 0s - loss: 0.0549 - accuracy: 0.9761 - 92ms/epoch - 3ms/step\n",
            "Epoch 66/100\n",
            "29/29 - 0s - loss: 0.0543 - accuracy: 0.9782 - 88ms/epoch - 3ms/step\n",
            "Epoch 67/100\n",
            "29/29 - 0s - loss: 0.0542 - accuracy: 0.9793 - 78ms/epoch - 3ms/step\n",
            "Epoch 68/100\n",
            "29/29 - 0s - loss: 0.0533 - accuracy: 0.9771 - 86ms/epoch - 3ms/step\n",
            "Epoch 69/100\n",
            "29/29 - 0s - loss: 0.0529 - accuracy: 0.9771 - 91ms/epoch - 3ms/step\n",
            "Epoch 70/100\n",
            "29/29 - 0s - loss: 0.0536 - accuracy: 0.9782 - 69ms/epoch - 2ms/step\n",
            "Epoch 71/100\n",
            "29/29 - 0s - loss: 0.0525 - accuracy: 0.9793 - 80ms/epoch - 3ms/step\n",
            "Epoch 72/100\n",
            "29/29 - 0s - loss: 0.0520 - accuracy: 0.9804 - 88ms/epoch - 3ms/step\n",
            "Epoch 73/100\n",
            "29/29 - 0s - loss: 0.0513 - accuracy: 0.9793 - 74ms/epoch - 3ms/step\n",
            "Epoch 74/100\n",
            "29/29 - 0s - loss: 0.0506 - accuracy: 0.9793 - 87ms/epoch - 3ms/step\n",
            "Epoch 75/100\n",
            "29/29 - 0s - loss: 0.0505 - accuracy: 0.9793 - 78ms/epoch - 3ms/step\n",
            "Epoch 76/100\n",
            "29/29 - 0s - loss: 0.0506 - accuracy: 0.9793 - 89ms/epoch - 3ms/step\n",
            "Epoch 77/100\n",
            "29/29 - 0s - loss: 0.0500 - accuracy: 0.9771 - 79ms/epoch - 3ms/step\n",
            "Epoch 78/100\n",
            "29/29 - 0s - loss: 0.0493 - accuracy: 0.9793 - 88ms/epoch - 3ms/step\n",
            "Epoch 79/100\n",
            "29/29 - 0s - loss: 0.0501 - accuracy: 0.9848 - 96ms/epoch - 3ms/step\n",
            "Epoch 80/100\n",
            "29/29 - 0s - loss: 0.0490 - accuracy: 0.9793 - 73ms/epoch - 3ms/step\n",
            "Epoch 81/100\n",
            "29/29 - 0s - loss: 0.0483 - accuracy: 0.9804 - 74ms/epoch - 3ms/step\n",
            "Epoch 82/100\n",
            "29/29 - 0s - loss: 0.0477 - accuracy: 0.9793 - 91ms/epoch - 3ms/step\n",
            "Epoch 83/100\n",
            "29/29 - 0s - loss: 0.0474 - accuracy: 0.9793 - 100ms/epoch - 3ms/step\n",
            "Epoch 84/100\n",
            "29/29 - 0s - loss: 0.0472 - accuracy: 0.9793 - 82ms/epoch - 3ms/step\n",
            "Epoch 85/100\n",
            "29/29 - 0s - loss: 0.0475 - accuracy: 0.9804 - 77ms/epoch - 3ms/step\n",
            "Epoch 86/100\n",
            "29/29 - 0s - loss: 0.0470 - accuracy: 0.9793 - 75ms/epoch - 3ms/step\n",
            "Epoch 87/100\n",
            "29/29 - 0s - loss: 0.0462 - accuracy: 0.9782 - 68ms/epoch - 2ms/step\n",
            "Epoch 88/100\n",
            "29/29 - 0s - loss: 0.0456 - accuracy: 0.9793 - 72ms/epoch - 2ms/step\n",
            "Epoch 89/100\n",
            "29/29 - 0s - loss: 0.0455 - accuracy: 0.9804 - 70ms/epoch - 2ms/step\n",
            "Epoch 90/100\n",
            "29/29 - 0s - loss: 0.0454 - accuracy: 0.9804 - 72ms/epoch - 2ms/step\n",
            "Epoch 91/100\n",
            "29/29 - 0s - loss: 0.0455 - accuracy: 0.9793 - 72ms/epoch - 2ms/step\n",
            "Epoch 92/100\n",
            "29/29 - 0s - loss: 0.0452 - accuracy: 0.9804 - 78ms/epoch - 3ms/step\n",
            "Epoch 93/100\n",
            "29/29 - 0s - loss: 0.0447 - accuracy: 0.9804 - 89ms/epoch - 3ms/step\n",
            "Epoch 94/100\n",
            "29/29 - 0s - loss: 0.0439 - accuracy: 0.9815 - 86ms/epoch - 3ms/step\n",
            "Epoch 95/100\n",
            "29/29 - 0s - loss: 0.0441 - accuracy: 0.9793 - 69ms/epoch - 2ms/step\n",
            "Epoch 96/100\n",
            "29/29 - 0s - loss: 0.0444 - accuracy: 0.9782 - 73ms/epoch - 3ms/step\n",
            "Epoch 97/100\n",
            "29/29 - 0s - loss: 0.0437 - accuracy: 0.9793 - 83ms/epoch - 3ms/step\n",
            "Epoch 98/100\n",
            "29/29 - 0s - loss: 0.0430 - accuracy: 0.9804 - 72ms/epoch - 2ms/step\n",
            "Epoch 99/100\n",
            "29/29 - 0s - loss: 0.0429 - accuracy: 0.9804 - 72ms/epoch - 2ms/step\n",
            "Epoch 100/100\n",
            "29/29 - 0s - loss: 0.0428 - accuracy: 0.9815 - 85ms/epoch - 3ms/step\n"
          ]
        },
        {
          "output_type": "execute_result",
          "data": {
            "text/plain": [
              "<keras.src.callbacks.History at 0x793f481fd390>"
            ]
          },
          "metadata": {},
          "execution_count": 21
        }
      ]
    },
    {
      "cell_type": "code",
      "source": [
        "predictions= model.predict(scaled_X_test)"
      ],
      "metadata": {
        "colab": {
          "base_uri": "https://localhost:8080/"
        },
        "id": "ekoUNVz84z7y",
        "outputId": "05df9acd-dbea-498b-e816-3aa7bcb611d5"
      },
      "execution_count": 23,
      "outputs": [
        {
          "output_type": "stream",
          "name": "stdout",
          "text": [
            "15/15 [==============================] - 0s 2ms/step\n"
          ]
        }
      ]
    },
    {
      "cell_type": "code",
      "source": [
        "classes =(predictions>0.5).astype(int)"
      ],
      "metadata": {
        "id": "_LnU3CAz6kr_"
      },
      "execution_count": 24,
      "outputs": []
    },
    {
      "cell_type": "code",
      "source": [
        "classes"
      ],
      "metadata": {
        "colab": {
          "base_uri": "https://localhost:8080/"
        },
        "id": "OFUhvXFy67_f",
        "outputId": "f8028e2e-3a06-4b52-a01b-31619e70753b"
      },
      "execution_count": 25,
      "outputs": [
        {
          "output_type": "execute_result",
          "data": {
            "text/plain": [
              "array([[0],\n",
              "       [0],\n",
              "       [0],\n",
              "       [0],\n",
              "       [0],\n",
              "       [0],\n",
              "       [0],\n",
              "       [0],\n",
              "       [0],\n",
              "       [0],\n",
              "       [1],\n",
              "       [1],\n",
              "       [0],\n",
              "       [1],\n",
              "       [0],\n",
              "       [1],\n",
              "       [1],\n",
              "       [1],\n",
              "       [1],\n",
              "       [1],\n",
              "       [0],\n",
              "       [0],\n",
              "       [1],\n",
              "       [0],\n",
              "       [1],\n",
              "       [0],\n",
              "       [0],\n",
              "       [1],\n",
              "       [0],\n",
              "       [0],\n",
              "       [1],\n",
              "       [0],\n",
              "       [0],\n",
              "       [1],\n",
              "       [1],\n",
              "       [0],\n",
              "       [1],\n",
              "       [1],\n",
              "       [1],\n",
              "       [0],\n",
              "       [0],\n",
              "       [1],\n",
              "       [1],\n",
              "       [0],\n",
              "       [1],\n",
              "       [1],\n",
              "       [1],\n",
              "       [0],\n",
              "       [0],\n",
              "       [1],\n",
              "       [0],\n",
              "       [0],\n",
              "       [0],\n",
              "       [0],\n",
              "       [0],\n",
              "       [1],\n",
              "       [0],\n",
              "       [0],\n",
              "       [0],\n",
              "       [0],\n",
              "       [1],\n",
              "       [0],\n",
              "       [1],\n",
              "       [0],\n",
              "       [0],\n",
              "       [0],\n",
              "       [0],\n",
              "       [0],\n",
              "       [0],\n",
              "       [1],\n",
              "       [1],\n",
              "       [0],\n",
              "       [1],\n",
              "       [0],\n",
              "       [1],\n",
              "       [1],\n",
              "       [0],\n",
              "       [1],\n",
              "       [1],\n",
              "       [1],\n",
              "       [1],\n",
              "       [0],\n",
              "       [1],\n",
              "       [0],\n",
              "       [0],\n",
              "       [0],\n",
              "       [0],\n",
              "       [1],\n",
              "       [1],\n",
              "       [0],\n",
              "       [0],\n",
              "       [0],\n",
              "       [1],\n",
              "       [1],\n",
              "       [0],\n",
              "       [1],\n",
              "       [1],\n",
              "       [0],\n",
              "       [0],\n",
              "       [0],\n",
              "       [1],\n",
              "       [0],\n",
              "       [0],\n",
              "       [0],\n",
              "       [1],\n",
              "       [0],\n",
              "       [0],\n",
              "       [1],\n",
              "       [1],\n",
              "       [1],\n",
              "       [1],\n",
              "       [1],\n",
              "       [0],\n",
              "       [1],\n",
              "       [1],\n",
              "       [1],\n",
              "       [0],\n",
              "       [1],\n",
              "       [1],\n",
              "       [0],\n",
              "       [1],\n",
              "       [0],\n",
              "       [1],\n",
              "       [0],\n",
              "       [1],\n",
              "       [0],\n",
              "       [1],\n",
              "       [1],\n",
              "       [0],\n",
              "       [1],\n",
              "       [1],\n",
              "       [0],\n",
              "       [0],\n",
              "       [0],\n",
              "       [0],\n",
              "       [0],\n",
              "       [1],\n",
              "       [0],\n",
              "       [0],\n",
              "       [1],\n",
              "       [0],\n",
              "       [0],\n",
              "       [1],\n",
              "       [0],\n",
              "       [1],\n",
              "       [0],\n",
              "       [1],\n",
              "       [1],\n",
              "       [1],\n",
              "       [0],\n",
              "       [1],\n",
              "       [1],\n",
              "       [1],\n",
              "       [0],\n",
              "       [1],\n",
              "       [0],\n",
              "       [1],\n",
              "       [0],\n",
              "       [0],\n",
              "       [0],\n",
              "       [1],\n",
              "       [1],\n",
              "       [1],\n",
              "       [1],\n",
              "       [1],\n",
              "       [0],\n",
              "       [1],\n",
              "       [0],\n",
              "       [0],\n",
              "       [0],\n",
              "       [0],\n",
              "       [0],\n",
              "       [0],\n",
              "       [1],\n",
              "       [0],\n",
              "       [0],\n",
              "       [1],\n",
              "       [1],\n",
              "       [0],\n",
              "       [0],\n",
              "       [0],\n",
              "       [0],\n",
              "       [1],\n",
              "       [0],\n",
              "       [1],\n",
              "       [0],\n",
              "       [1],\n",
              "       [1],\n",
              "       [0],\n",
              "       [0],\n",
              "       [1],\n",
              "       [0],\n",
              "       [0],\n",
              "       [1],\n",
              "       [1],\n",
              "       [1],\n",
              "       [1],\n",
              "       [0],\n",
              "       [0],\n",
              "       [1],\n",
              "       [1],\n",
              "       [1],\n",
              "       [0],\n",
              "       [0],\n",
              "       [1],\n",
              "       [1],\n",
              "       [1],\n",
              "       [1],\n",
              "       [0],\n",
              "       [0],\n",
              "       [0],\n",
              "       [0],\n",
              "       [0],\n",
              "       [0],\n",
              "       [0],\n",
              "       [0],\n",
              "       [1],\n",
              "       [0],\n",
              "       [1],\n",
              "       [1],\n",
              "       [1],\n",
              "       [1],\n",
              "       [1],\n",
              "       [0],\n",
              "       [1],\n",
              "       [0],\n",
              "       [0],\n",
              "       [1],\n",
              "       [1],\n",
              "       [1],\n",
              "       [1],\n",
              "       [0],\n",
              "       [1],\n",
              "       [0],\n",
              "       [1],\n",
              "       [1],\n",
              "       [1],\n",
              "       [1],\n",
              "       [0],\n",
              "       [0],\n",
              "       [0],\n",
              "       [1],\n",
              "       [0],\n",
              "       [1],\n",
              "       [1],\n",
              "       [1],\n",
              "       [0],\n",
              "       [0],\n",
              "       [0],\n",
              "       [0],\n",
              "       [0],\n",
              "       [0],\n",
              "       [1],\n",
              "       [0],\n",
              "       [0],\n",
              "       [0],\n",
              "       [0],\n",
              "       [0],\n",
              "       [1],\n",
              "       [1],\n",
              "       [0],\n",
              "       [0],\n",
              "       [0],\n",
              "       [1],\n",
              "       [1],\n",
              "       [0],\n",
              "       [1],\n",
              "       [0],\n",
              "       [1],\n",
              "       [1],\n",
              "       [1],\n",
              "       [1],\n",
              "       [0],\n",
              "       [0],\n",
              "       [0],\n",
              "       [0],\n",
              "       [0],\n",
              "       [1],\n",
              "       [0],\n",
              "       [0],\n",
              "       [1],\n",
              "       [0],\n",
              "       [1],\n",
              "       [0],\n",
              "       [0],\n",
              "       [1],\n",
              "       [0],\n",
              "       [0],\n",
              "       [0],\n",
              "       [0],\n",
              "       [0],\n",
              "       [1],\n",
              "       [1],\n",
              "       [0],\n",
              "       [1],\n",
              "       [0],\n",
              "       [1],\n",
              "       [1],\n",
              "       [0],\n",
              "       [0],\n",
              "       [0],\n",
              "       [0],\n",
              "       [0],\n",
              "       [0],\n",
              "       [0],\n",
              "       [1],\n",
              "       [1],\n",
              "       [1],\n",
              "       [0],\n",
              "       [0],\n",
              "       [1],\n",
              "       [1],\n",
              "       [0],\n",
              "       [0],\n",
              "       [0],\n",
              "       [0],\n",
              "       [0],\n",
              "       [0],\n",
              "       [1],\n",
              "       [0],\n",
              "       [1],\n",
              "       [1],\n",
              "       [1],\n",
              "       [0],\n",
              "       [0],\n",
              "       [0],\n",
              "       [0],\n",
              "       [1],\n",
              "       [0],\n",
              "       [0],\n",
              "       [0],\n",
              "       [0],\n",
              "       [0],\n",
              "       [0],\n",
              "       [0],\n",
              "       [1],\n",
              "       [0],\n",
              "       [1],\n",
              "       [1],\n",
              "       [1],\n",
              "       [1],\n",
              "       [0],\n",
              "       [1],\n",
              "       [1],\n",
              "       [0],\n",
              "       [1],\n",
              "       [1],\n",
              "       [0],\n",
              "       [0],\n",
              "       [1],\n",
              "       [0],\n",
              "       [0],\n",
              "       [1],\n",
              "       [0],\n",
              "       [1],\n",
              "       [0],\n",
              "       [1],\n",
              "       [1],\n",
              "       [0],\n",
              "       [0],\n",
              "       [1],\n",
              "       [0],\n",
              "       [0],\n",
              "       [0],\n",
              "       [0],\n",
              "       [0],\n",
              "       [0],\n",
              "       [1],\n",
              "       [0],\n",
              "       [0],\n",
              "       [1],\n",
              "       [1],\n",
              "       [0],\n",
              "       [0],\n",
              "       [0],\n",
              "       [1],\n",
              "       [1],\n",
              "       [0],\n",
              "       [1],\n",
              "       [0],\n",
              "       [1],\n",
              "       [1],\n",
              "       [1],\n",
              "       [0],\n",
              "       [1],\n",
              "       [1],\n",
              "       [0],\n",
              "       [1],\n",
              "       [1],\n",
              "       [0],\n",
              "       [1],\n",
              "       [0],\n",
              "       [0],\n",
              "       [0],\n",
              "       [1],\n",
              "       [1],\n",
              "       [1],\n",
              "       [0],\n",
              "       [0],\n",
              "       [0],\n",
              "       [0],\n",
              "       [1],\n",
              "       [0],\n",
              "       [0],\n",
              "       [1],\n",
              "       [1],\n",
              "       [1],\n",
              "       [1],\n",
              "       [0],\n",
              "       [1],\n",
              "       [0],\n",
              "       [0],\n",
              "       [1],\n",
              "       [1],\n",
              "       [0],\n",
              "       [1],\n",
              "       [0],\n",
              "       [1],\n",
              "       [0],\n",
              "       [0],\n",
              "       [0],\n",
              "       [1],\n",
              "       [1],\n",
              "       [0],\n",
              "       [0],\n",
              "       [0],\n",
              "       [1],\n",
              "       [0],\n",
              "       [0],\n",
              "       [1],\n",
              "       [0],\n",
              "       [0],\n",
              "       [0],\n",
              "       [0],\n",
              "       [1],\n",
              "       [0],\n",
              "       [1],\n",
              "       [0],\n",
              "       [0],\n",
              "       [1],\n",
              "       [0],\n",
              "       [0],\n",
              "       [0],\n",
              "       [0],\n",
              "       [0],\n",
              "       [0],\n",
              "       [1],\n",
              "       [1],\n",
              "       [0],\n",
              "       [0],\n",
              "       [0],\n",
              "       [0],\n",
              "       [0]])"
            ]
          },
          "metadata": {},
          "execution_count": 25
        }
      ]
    },
    {
      "cell_type": "markdown",
      "source": [],
      "metadata": {
        "id": "oXAUgRPs7vGg"
      }
    },
    {
      "cell_type": "code",
      "source": [
        "model.metrics_names"
      ],
      "metadata": {
        "colab": {
          "base_uri": "https://localhost:8080/"
        },
        "id": "XWC6ykNo75FZ",
        "outputId": "439b510c-8f21-49b8-ccdb-08eca5e129ea"
      },
      "execution_count": 26,
      "outputs": [
        {
          "output_type": "execute_result",
          "data": {
            "text/plain": [
              "['loss', 'accuracy']"
            ]
          },
          "metadata": {},
          "execution_count": 26
        }
      ]
    },
    {
      "cell_type": "code",
      "source": [
        "model.evaluate(x=scaled_X_test, y=y_test)"
      ],
      "metadata": {
        "colab": {
          "base_uri": "https://localhost:8080/"
        },
        "id": "x2auKtwE767o",
        "outputId": "19609758-34be-4077-ca8a-4ee63ef1bace"
      },
      "execution_count": 27,
      "outputs": [
        {
          "output_type": "stream",
          "name": "stdout",
          "text": [
            "15/15 [==============================] - 0s 3ms/step - loss: 0.0422 - accuracy: 0.9868\n"
          ]
        },
        {
          "output_type": "execute_result",
          "data": {
            "text/plain": [
              "[0.04220576584339142, 0.9867549538612366]"
            ]
          },
          "metadata": {},
          "execution_count": 27
        }
      ]
    },
    {
      "cell_type": "code",
      "source": [
        "from sklearn.metrics import confusion_matrix, classification_report"
      ],
      "metadata": {
        "id": "zqeHZolr8X6z"
      },
      "execution_count": 31,
      "outputs": []
    },
    {
      "cell_type": "code",
      "source": [
        "confusion_matrix(y_test, classes)"
      ],
      "metadata": {
        "colab": {
          "base_uri": "https://localhost:8080/"
        },
        "id": "-NMjK_AS8ndE",
        "outputId": "129f8c37-db06-4958-a5a2-84d222c8830a"
      },
      "execution_count": 32,
      "outputs": [
        {
          "output_type": "execute_result",
          "data": {
            "text/plain": [
              "array([[253,   4],\n",
              "       [  2, 194]])"
            ]
          },
          "metadata": {},
          "execution_count": 32
        }
      ]
    },
    {
      "cell_type": "code",
      "source": [
        "print(classification_report(y_test, classes))"
      ],
      "metadata": {
        "colab": {
          "base_uri": "https://localhost:8080/"
        },
        "id": "7cmKb6pG9VVe",
        "outputId": "52223727-ac79-4fc6-e308-552f12882376"
      },
      "execution_count": 35,
      "outputs": [
        {
          "output_type": "stream",
          "name": "stdout",
          "text": [
            "              precision    recall  f1-score   support\n",
            "\n",
            "         0.0       0.99      0.98      0.99       257\n",
            "         1.0       0.98      0.99      0.98       196\n",
            "\n",
            "    accuracy                           0.99       453\n",
            "   macro avg       0.99      0.99      0.99       453\n",
            "weighted avg       0.99      0.99      0.99       453\n",
            "\n"
          ]
        }
      ]
    },
    {
      "cell_type": "code",
      "source": [
        "model.save('mimodelo.h5')"
      ],
      "metadata": {
        "colab": {
          "base_uri": "https://localhost:8080/"
        },
        "id": "DSarnkE-9oPo",
        "outputId": "7728f974-5f56-40fa-8e78-c61667588ba7"
      },
      "execution_count": 36,
      "outputs": [
        {
          "output_type": "stream",
          "name": "stderr",
          "text": [
            "/usr/local/lib/python3.10/dist-packages/keras/src/engine/training.py:3103: UserWarning: You are saving your model as an HDF5 file via `model.save()`. This file format is considered legacy. We recommend using instead the native Keras format, e.g. `model.save('my_model.keras')`.\n",
            "  saving_api.save_model(\n"
          ]
        }
      ]
    },
    {
      "cell_type": "code",
      "source": [
        "from keras.models import load_model"
      ],
      "metadata": {
        "id": "k-gEAhT798YY"
      },
      "execution_count": 37,
      "outputs": []
    },
    {
      "cell_type": "code",
      "source": [
        "nuevo_modelo = load_model('mimodelo.h5')"
      ],
      "metadata": {
        "id": "0v6uKmsR-GNK"
      },
      "execution_count": 39,
      "outputs": []
    },
    {
      "cell_type": "code",
      "source": [
        "nuevo_modelo.summary()"
      ],
      "metadata": {
        "colab": {
          "base_uri": "https://localhost:8080/"
        },
        "id": "4pfur5wE-kEl",
        "outputId": "10ff4dfe-dbd0-476d-acf3-956e483c6e3f"
      },
      "execution_count": 40,
      "outputs": [
        {
          "output_type": "stream",
          "name": "stdout",
          "text": [
            "Model: \"sequential\"\n",
            "_________________________________________________________________\n",
            " Layer (type)                Output Shape              Param #   \n",
            "=================================================================\n",
            " dense (Dense)               (None, 4)                 20        \n",
            "                                                                 \n",
            " dense_1 (Dense)             (None, 8)                 40        \n",
            "                                                                 \n",
            " dense_2 (Dense)             (None, 1)                 9         \n",
            "                                                                 \n",
            "=================================================================\n",
            "Total params: 69 (276.00 Byte)\n",
            "Trainable params: 69 (276.00 Byte)\n",
            "Non-trainable params: 0 (0.00 Byte)\n",
            "_________________________________________________________________\n"
          ]
        }
      ]
    }
  ]
}